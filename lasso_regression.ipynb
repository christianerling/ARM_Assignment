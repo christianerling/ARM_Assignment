{
 "metadata": {
  "language_info": {
   "codemirror_mode": {
    "name": "ipython",
    "version": 3
   },
   "file_extension": ".py",
   "mimetype": "text/x-python",
   "name": "python",
   "nbconvert_exporter": "python",
   "pygments_lexer": "ipython3",
   "version": "3.8.6-final"
  },
  "orig_nbformat": 2,
  "kernelspec": {
   "name": "python3",
   "display_name": "Python 3",
   "language": "python"
  }
 },
 "nbformat": 4,
 "nbformat_minor": 2,
 "cells": [
  {
   "source": [
    "# LASSO Regression"
   ],
   "cell_type": "markdown",
   "metadata": {}
  },
  {
   "cell_type": "code",
   "execution_count": null,
   "metadata": {},
   "outputs": [],
   "source": [
    "import warnings\n",
    "from itertools import chain\n",
    "from time import time\n",
    "from sklearn.model_selection import GridSearchCV\n",
    "from datetime import timedelta\n",
    "import matplotlib.pyplot as plt\n",
    "import numpy as np\n",
    "import pandas as pd\n",
    "import seaborn as sns\n",
    "from sklearn import linear_model\n",
    "from sklearn.exceptions import ConvergenceWarning\n",
    "from sklearn.metrics import mean_squared_error, r2_score, mean_absolute_error\n",
    "from sklearn.model_selection import ShuffleSplit\n",
    "from tqdm import tqdm"
   ]
  },
  {
   "source": [
    "## Helper Functions for calculating the metrics"
   ],
   "cell_type": "markdown",
   "metadata": {}
  },
  {
   "cell_type": "code",
   "execution_count": null,
   "metadata": {},
   "outputs": [],
   "source": [
    "def percentage_error(actual, predicted):\n",
    "    res = np.empty(actual.shape)\n",
    "    for j in range(actual.shape[0]):\n",
    "        if actual[j] != 0:\n",
    "            res[j] = (actual[j] - predicted[j]) / actual[j]\n",
    "        else:\n",
    "            res[j] = predicted[j] / np.mean(actual)\n",
    "    return res\n",
    "\n",
    "\n",
    "def mean_absolute_percentage_error(y_true, y_pred):\n",
    "    return np.mean(np.abs(percentage_error(np.asarray(y_true), np.asarray(y_pred)))) * 100"
   ]
  },
  {
   "source": [
    "## Data Import and Preparation"
   ],
   "cell_type": "markdown",
   "metadata": {}
  },
  {
   "cell_type": "code",
   "execution_count": null,
   "metadata": {},
   "outputs": [],
   "source": [
    "data_preprocessed = pd.read_json(\"data/owi-covid-values_imputed.json\")\n",
    "x_data = data_preprocessed.loc[:, data_preprocessed.columns != \"new_deaths_smoothed\"]\n",
    "y_data = data_preprocessed.loc[:, data_preprocessed.columns == \"new_deaths_smoothed\"]"
   ]
  },
  {
   "source": [
    "## Search for optimal Hyperparameters"
   ],
   "cell_type": "markdown",
   "metadata": {}
  },
  {
   "cell_type": "code",
   "execution_count": null,
   "metadata": {},
   "outputs": [],
   "source": [
    "# Part used for searching the hyperparameters\n",
    "# Generate alpha score list between 0.01 and 1\n",
    "alpha_scores = []  # list(np.linspace(0.01, 1, 100))\n",
    "# Add scores between 1 and 25\n",
    "alpha_scores.extend(list(np.linspace(0, 200, 20000)))\n",
    "lasso_params = {'alpha': alpha_scores}\n",
    "t1 = time()\n",
    "# Activate with Multiprocessing, params, and 5 fold CV\n",
    "lasso_grid_search_cv = GridSearchCV(linear_model.Lasso(), param_grid=lasso_params, n_jobs=-1, cv=5, verbose=1)\n",
    "lasso_grid_search_cv.fit(x_data, y_data)\n",
    "t2 = time()\n",
    "print(\"\\n\\n\")\n",
    "print(f\"LASSO Regression: Best Score {lasso_grid_search_cv.best_score_}\")\n",
    "print(f\"LASSO Regression: Best Parameter {lasso_grid_search_cv.best_params_}\")\n",
    "print(f\"\\nExecution Time: {timedelta(seconds=(t2 - t1))}\")\n",
    "mean_times = lasso_grid_search_cv.cv_results_[\"mean_fit_time\"]\n",
    "std_times = lasso_grid_search_cv.cv_results_[\"std_fit_time\"]\n",
    "mean_score = lasso_grid_search_cv.cv_results_[\"mean_test_score\"]\n",
    "std_score = lasso_grid_search_cv.cv_results_[\"std_test_score\"]\n",
    "param_alphas = np.array(lasso_grid_search_cv.cv_results_[\"param_alpha\"], dtype=float)\n",
    "\n",
    "grid_search_scores_lasso = pd.DataFrame(\n",
    "    {\"mean_times\": mean_times, \"std_times\": std_times, \"mean_score\": mean_score, \"std_score\": std_score,\n",
    "     \"param_alphas\": param_alphas}\n",
    ")\n",
    "grid_search_scores_lasso.to_excel(\"data/lasso_grid_search_results.xlsx\")\n",
    "\n",
    "grid_search_scores_lasso = pd.read_excel(\"data/lasso_grid_search_results.xlsx\")\n",
    "\n",
    "grid_search_scores_lasso_filtered = grid_search_scores_lasso  # grid_search_scores_lasso[(grid_search_scores_lasso[\"param_alphas\"] >= 60)]\n",
    "plt.plot(grid_search_scores_lasso_filtered[\"param_alphas\"], grid_search_scores_lasso_filtered[\"mean_score\"],\n",
    "         label=\"LASSO Regression\")\n",
    "plt.xlabel(\"Alpha\")\n",
    "# plt.ylim(0.25, 1.0)\n",
    "plt.xlim(0, 1)\n",
    "plt.ylabel(\"Mean R\\u00b2 Score\")\n",
    "plt.legend(loc=\"upper right\", frameon=False)\n",
    "plt.savefig(\"data/lasso_grid_search_results.png\", dpi=250)\n",
    "plt.show()"
   ]
  },
  {
   "source": [
    "## Testrun Execution"
   ],
   "cell_type": "markdown",
   "metadata": {}
  },
  {
   "cell_type": "code",
   "execution_count": null,
   "metadata": {},
   "outputs": [],
   "source": [
    "# Execute testrun 1200 times\n",
    "lm = linear_model.Lasso(alpha=0.01000050002500125)\n",
    "mean_result = []\n",
    "predicted = []\n",
    "true_vals = []\n",
    "feature_imp = dict()\n",
    "for i in tqdm(range(1200)):\n",
    "    cv_result = []\n",
    "    indices = []\n",
    "    s_split = ShuffleSplit(n_splits=5, test_size=0.2, train_size=0.8)\n",
    "    for train_index, test_index in s_split.split(x_data):\n",
    "        indices.append([train_index, test_index])\n",
    "        X_train, X_test = x_data.iloc[train_index], x_data.iloc[test_index]\n",
    "        y_train, y_test = y_data.iloc[train_index], y_data.iloc[test_index]\n",
    "        t1 = time()\n",
    "        with warnings.catch_warnings():\n",
    "            warnings.filterwarnings(\"ignore\", category=ConvergenceWarning)\n",
    "            lm.fit(X_train, y_train)\n",
    "        coeff = np.abs(lm.coef_)\n",
    "        rel_func = lambda x: x / np.sum(coeff)\n",
    "        coeff = rel_func(coeff)\n",
    "\n",
    "        for counter, column in enumerate(x_data.columns):\n",
    "            if column in feature_imp.keys():\n",
    "                feature_imp[column].append(coeff[counter])\n",
    "            else:\n",
    "                feature_imp.update({column: [coeff[counter]]})\n",
    "        y_pred = lm.predict(X_test)\n",
    "        t2 = time()\n",
    "        predicted.append(y_pred.tolist())\n",
    "        true_vals.append(y_test[\"new_deaths_smoothed\"].tolist())\n",
    "        r2 = r2_score(y_test, y_pred)\n",
    "        mse = mean_squared_error(y_test, y_pred)\n",
    "        rmse = mean_squared_error(y_test, y_pred, squared=False)\n",
    "        mae = mean_absolute_error(y_test, y_pred)\n",
    "        mape = mean_absolute_percentage_error(y_test, y_pred)\n",
    "        cv_result.append([r2, mse, rmse, mae, mape, t2 - t1])\n",
    "    means = list(np.mean(np.array(cv_result), axis=0))\n",
    "    mean_result.append(means)\n",
    "\n",
    "pd.DataFrame(mean_result, columns=[\"R2\", \"MSE\", \"RMSE\", \"MAE\", \"MAPE\", \"Execution Time\"]).to_excel(\n",
    "    \"data/lasso_cv_run.xlsx\")"
   ]
  },
  {
   "source": [
    "## Visualization of Feature Importances"
   ],
   "cell_type": "markdown",
   "metadata": {}
  },
  {
   "cell_type": "code",
   "execution_count": null,
   "metadata": {},
   "outputs": [],
   "source": [
    "for key, value in feature_imp.items():\n",
    "    feature_imp[key] = np.mean(feature_imp[key])\n",
    "imp_coef = pd.Series(feature_imp)\n",
    "imp_coef = pd.DataFrame(imp_coef).reset_index()\n",
    "imp_coef.columns = [\"Feature\", \"Value\"]\n",
    "imp_coef = imp_coef.sort_values(by=\"Value\", ascending=False)\n",
    "plt.figure(figsize=(20, 10))\n",
    "sns.barplot(x=\"Value\", y=\"Feature\", data=imp_coef)\n",
    "plt.title('Relative LASSO Feature Importance (mean over folds)')\n",
    "plt.tight_layout()\n",
    "plt.savefig('data/lasso_importances-01.png', dpi=200)\n",
    "plt.show()"
   ]
  },
  {
   "source": [
    "## Visualization of the Prediction Interval"
   ],
   "cell_type": "markdown",
   "metadata": {}
  },
  {
   "cell_type": "code",
   "execution_count": null,
   "metadata": {},
   "outputs": [],
   "source": [
    "# Visualize the Prediction Interval\n",
    "predicted = list(chain.from_iterable(predicted))\n",
    "true_vals = list(chain.from_iterable(true_vals))\n",
    "\n",
    "regression_res_collected = dict()\n",
    "\n",
    "for counter, true_val in enumerate(true_vals):\n",
    "    if true_val in regression_res_collected.keys():\n",
    "        regression_res_collected[true_val].append(predicted[counter])\n",
    "    else:\n",
    "        regression_res_collected.update({true_val: [predicted[counter]]})\n",
    "\n",
    "regression_res_collected = dict(sorted(regression_res_collected.items()))\n",
    "\n",
    "for key, value in regression_res_collected.items():\n",
    "    regression_res_collected[key] = [min(regression_res_collected[key]), max(regression_res_collected[key])]\n",
    "\n",
    "max_pred = []\n",
    "min_pred = []\n",
    "for key, value in regression_res_collected.items():\n",
    "    max_pred.append(value[1])\n",
    "    min_pred.append(value[0])\n",
    "fig, ax = plt.subplots()\n",
    "real_vals = list(regression_res_collected.keys())\n",
    "ax.fill_between(real_vals, min_pred, max_pred, alpha=1.0, interpolate=True, color=\"red\", label='Prediction Interval')\n",
    "\n",
    "ax.plot([min(true_vals), max(true_vals)], [min(true_vals), max(true_vals)], color=\"blue\", linestyle='--', lw=4,\n",
    "        label=\"Ideal Prediction\")\n",
    "ax.set_xlabel(\"Real new_deaths_smoothed\")\n",
    "ax.set_ylabel(\"Predicted new_deaths_smoothed\")\n",
    "fig.suptitle('LASSO Regression', fontsize=16)\n",
    "plt.legend(loc=\"upper left\", frameon=False)\n",
    "plt.savefig(\"data/lasso_cv_results.png\", dpi=250)\n",
    "plt.show()"
   ]
  }
 ]
}