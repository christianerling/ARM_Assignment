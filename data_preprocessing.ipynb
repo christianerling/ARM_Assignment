{
 "metadata": {
  "language_info": {
   "codemirror_mode": {
    "name": "ipython",
    "version": 3
   },
   "file_extension": ".py",
   "mimetype": "text/x-python",
   "name": "python",
   "nbconvert_exporter": "python",
   "pygments_lexer": "ipython3",
   "version": "3.8.6-final"
  },
  "orig_nbformat": 2,
  "kernelspec": {
   "name": "python3",
   "display_name": "Python 3",
   "language": "python"
  }
 },
 "nbformat": 4,
 "nbformat_minor": 2,
 "cells": [
  {
   "source": [
    "# Data Preprocessing of the Covid-19 Dataset"
   ],
   "cell_type": "markdown",
   "metadata": {}
  },
  {
   "cell_type": "code",
   "execution_count": null,
   "metadata": {},
   "outputs": [],
   "source": [
    "!pip install -r requirements.txt"
   ]
  },
  {
   "cell_type": "code",
   "execution_count": null,
   "metadata": {},
   "outputs": [],
   "source": [
    "import datetime as dt\n",
    "from datetime import timedelta\n",
    "from time import time\n",
    "\n",
    "import pandas as pd\n",
    "from missingpy import MissForest\n",
    "# noinspection PyUnresolvedReferences\n",
    "from nltk.corpus import stopwords"
   ]
  },
  {
   "cell_type": "code",
   "execution_count": null,
   "metadata": {},
   "outputs": [],
   "source": [
    "# Download the owid_covid-data CSV from https://ourworldindata.org/coronavirus-source-data and place it in\n",
    "# the data folder\n",
    "covid_19_raw = pd.read_csv(\"data/owid-covid-data.csv\", encoding=\"utf-8\")"
   ]
  },
  {
   "source": [
    "## Column Selection"
   ],
   "cell_type": "markdown",
   "metadata": {}
  },
  {
   "cell_type": "code",
   "execution_count": null,
   "metadata": {},
   "outputs": [],
   "source": [
    "col_selection = [\"location\"\n",
    "    , \"date\"\n",
    "    , \"total_cases\"\n",
    "    , \"new_cases\"\n",
    "    , \"new_cases_smoothed\"\n",
    "    , \"new_deaths_smoothed\"\n",
    "    , \"reproduction_rate\"\n",
    "    , \"icu_patients\"\n",
    "    , \"hosp_patients\"\n",
    "    , \"new_tests\"\n",
    "    , \"new_tests_smoothed\"\n",
    "    , \"tests_per_case\"\n",
    "    , \"positive_rate\"\n",
    "    , \"stringency_index\"\n",
    "    , \"population\"\n",
    "    , \"population_density\"\n",
    "    , \"median_age\"\n",
    "    , \"aged_65_older\"\n",
    "    , \"aged_70_older\"\n",
    "    , \"gdp_per_capita\"\n",
    "    , \"extreme_poverty\"\n",
    "    , \"cardiovasc_death_rate\"\n",
    "    , \"diabetes_prevalence\"\n",
    "    , \"female_smokers\"\n",
    "    , \"male_smokers\"\n",
    "    , \"handwashing_facilities\"\n",
    "    , \"hospital_beds_per_thousand\"\n",
    "    , \"life_expectancy\"\n",
    "    , \"human_development_index\"]\n",
    "\n",
    "# Perform Selection of Columns\n",
    "covid_19_column_selection = covid_19_raw[col_selection]\n",
    "covid_19_column_selection.to_excel(\"data/owi-covid-data_cols_filtered.xlsx\")"
   ]
  },
  {
   "source": [
    "## Drop Columns with more than 50% missing values"
   ],
   "cell_type": "markdown",
   "metadata": {}
  },
  {
   "cell_type": "code",
   "execution_count": null,
   "metadata": {},
   "outputs": [],
   "source": [
    "eu_countries = [\"Austria\", \"Belgium\", \"Bulgaria\", \"Croatia\", \"Cyprus\", \"Czech Republic\", \"Denmark\", \"Estonia\",\n",
    "                \"Finland\", \"France\", \"Germany\", \"Greece\", \"Hungary\", \"Ireland\", \"Italy\", \"Latvia\", \"Luxembourg\",\n",
    "                \"Lithuania\", \"Malta\", \"Netherlands\", \"Poland\", \"Portugal\", \"Romania\", \"Slovakia\", \"Slovenia\",\n",
    "                \"Spain\", \"Sweden\", \"United Kingdom\"]\n",
    "# drop columns with more than 50% missing values and not in EU country\n",
    "covid_19_column_selection = covid_19_column_selection[covid_19_column_selection[\"location\"].isin(eu_countries)]\n",
    "covid_19_column_selection = covid_19_column_selection.dropna(\n",
    "    thresh=len(covid_19_column_selection) * 0.5, axis=1)\n",
    "# convert column to integer\n",
    "covid_19_column_selection[\"date\"] = pd.to_datetime(covid_19_column_selection[\"date\"])\n",
    "covid_19_column_selection['date'] = covid_19_column_selection['date'].map(dt.datetime.toordinal)\n",
    "# Pivot the Location Column\n",
    "transformed_col = pd.get_dummies(covid_19_column_selection)\n",
    "t1 = time()\n",
    "percent_missing = transformed_col.isnull().sum() * 100 / len(transformed_col)\n",
    "missing_value_df = pd.DataFrame({'column_name': transformed_col.columns,\n",
    "                                 'percent_missing': percent_missing})\n",
    "missing_value_df.to_excel(\"data/missing_value_information.xlsx\")"
   ]
  },
  {
   "source": [
    "## MissForest missing value imputation"
   ],
   "cell_type": "markdown",
   "metadata": {}
  },
  {
   "cell_type": "code",
   "execution_count": null,
   "metadata": {},
   "outputs": [],
   "source": [
    "# Make an instance and perform the imputation\n",
    "imputer = MissForest(verbose=1, max_iter=15, n_jobs=-1)\n",
    "# Impute Missing Values\n",
    "covid_19_values_imputed = pd.DataFrame(imputer.fit_transform(transformed_col), columns=transformed_col.columns.tolist())\n",
    "t2 = time()\n",
    "covid_19_values_imputed.to_excel(\"data/owi-covid-faulty_values_imputed.xlsx\")"
   ]
  },
  {
   "source": [
    "## Deletion of Faulty Imputed Data"
   ],
   "cell_type": "markdown",
   "metadata": {}
  },
  {
   "cell_type": "code",
   "execution_count": null,
   "metadata": {},
   "outputs": [],
   "source": [
    "# Delete Rows with Faulty Imputed data\n",
    "covid_19_values_imputed = covid_19_values_imputed[covid_19_values_imputed[\"extreme_poverty\"] < 1]\n",
    "covid_19_values_imputed = covid_19_values_imputed[covid_19_values_imputed[\"new_cases\"] >= 0]\n",
    "covid_19_values_imputed = covid_19_values_imputed[covid_19_values_imputed[\"new_cases_smoothed\"] >= 0]\n",
    "print()\n",
    "print(f\"Execution Time for Imputation {timedelta(seconds=(t2 - t1))}\")\n",
    "\n",
    "# Export the Files for Analysis\n",
    "covid_19_values_imputed.to_excel(\"data/owi-covid-values_imputed.xlsx\")\n",
    "covid_19_values_imputed.to_json(\"data/owi-covid-values_imputed.json\")"
   ]
  },
  {
   "source": [
    "## (Optional) perform steps for whole dataset (non-EU countries incl.)"
   ],
   "cell_type": "markdown",
   "metadata": {}
  },
  {
   "cell_type": "code",
   "execution_count": null,
   "metadata": {},
   "outputs": [],
   "source": [
    "# Now for every country on the world\n",
    "t1 = time()\n",
    "# Transform columns with all countries selected\n",
    "transformed_col = pd.get_dummies(covid_19_column_selection[~covid_19_column_selection[\"location\"].isin([\"World\"])])\n",
    "covid_19_values_imputed = pd.DataFrame(imputer.fit_transform(transformed_col), columns=transformed_col.columns.tolist())\n",
    "t2 = time()\n",
    "# Delete Rows with Faulty Imputed data\n",
    "covid_19_values_imputed = covid_19_values_imputed[covid_19_values_imputed[\"extreme_poverty\"] < 1]\n",
    "covid_19_values_imputed = covid_19_values_imputed[covid_19_values_imputed[\"new_cases\"] >= 0]\n",
    "covid_19_values_imputed = covid_19_values_imputed[covid_19_values_imputed[\"new_cases_smoothed\"] >= 0]\n",
    "print()\n",
    "print(f\"Execution Time for Imputation {timedelta(seconds=(t2 - t1))}\")\n",
    "# Export the Files for Analysis\n",
    "covid_19_values_imputed.to_excel(\"data/owi-covid-values_imputed_all_countries.xlsx\")\n",
    "covid_19_values_imputed.to_json(\"data/owi-covid-values_imputed_all_countries.json\")"
   ]
  }
 ]
}